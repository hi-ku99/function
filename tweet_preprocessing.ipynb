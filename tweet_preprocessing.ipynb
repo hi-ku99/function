{
 "cells": [
  {
   "cell_type": "markdown",
   "metadata": {},
   "source": [
    "## 前処理"
   ]
  },
  {
   "cell_type": "code",
   "execution_count": 9,
   "metadata": {},
   "outputs": [],
   "source": [
    "def clean_text(data):\n",
    "    \n",
    "    data = data.copy() #SettingWithCopyWarningが発生するため．viewではなく，copyに前処理をしたほうが安全\n",
    "    data['correction_tweet'] = data['correction_tweet'].str.replace('RT *[@＠]\\w+:','',regex=True) #リツイート印の除去\n",
    "    data['correction_tweet'] = data['correction_tweet'].str.replace('[@＠]\\w+', '',regex=True) #メンション除去 \n",
    "    data['correction_tweet'].str.lower()\n",
    "    data['correction_tweet'] = data['correction_tweet'].str.replace('https?://[\\w/:%#\\$&\\?\\(\\)~\\.=\\+\\-]+', '',regex=True) #メンション除去 \n",
    "    data['correction_tweet'] = data['correction_tweet'].str.replace('#', '',regex=True) # #除去\n",
    "    data['correction_tweet'] = data['correction_tweet'].str.replace('[=]', '',regex=True) #=除去\n",
    "    data['correction_tweet'] = data['correction_tweet'].str.replace('　', ' ',regex=True) #全角空白の除去\n",
    "    data['correction_tweet'] = data['correction_tweet'].str.replace('[【】]', '',regex=True) #【】の除去\n",
    "    data['correction_tweet'] = data['correction_tweet'].str.replace('[（）()]', '',regex=True) #（）の除去\n",
    "    data['correction_tweet'] = data['correction_tweet'].str.replace('[［］\\[\\]]', '',regex=True) #［］の除去\n",
    "    data['correction_tweet'] = data['correction_tweet'].str.replace('[「」]', '',regex=True) #「」の除去\n",
    "    \n",
    "    return data"
   ]
  }
 ],
 "metadata": {
  "kernelspec": {
   "display_name": "Python 3",
   "language": "python",
   "name": "python3"
  },
  "language_info": {
   "codemirror_mode": {
    "name": "ipython",
    "version": 3
   },
   "file_extension": ".py",
   "mimetype": "text/x-python",
   "name": "python",
   "nbconvert_exporter": "python",
   "pygments_lexer": "ipython3",
   "version": "3.7.4"
  }
 },
 "nbformat": 4,
 "nbformat_minor": 2
}
